{
 "cells": [
  {
   "cell_type": "code",
   "execution_count": 1,
   "metadata": {},
   "outputs": [
    {
     "name": "stdout",
     "output_type": "stream",
     "text": [
      "pygame 2.1.2 (SDL 2.0.16, Python 3.9.7)\n",
      "Hello from the pygame community. https://www.pygame.org/contribute.html\n"
     ]
    },
    {
     "name": "stderr",
     "output_type": "stream",
     "text": [
      "shared memfd open() failed: Function not implemented\n",
      "shared memfd open() failed: Function not implemented\n"
     ]
    },
    {
     "ename": "KeyboardInterrupt",
     "evalue": "",
     "output_type": "error",
     "traceback": [
      "\u001b[0;31m---------------------------------------------------------------------------\u001b[0m",
      "\u001b[0;31mKeyboardInterrupt\u001b[0m                         Traceback (most recent call last)",
      "\u001b[0;32m/tmp/ipykernel_390/3518829632.py\u001b[0m in \u001b[0;36m<module>\u001b[0;34m\u001b[0m\n\u001b[1;32m     48\u001b[0m     \u001b[0mworld\u001b[0m\u001b[0;34m.\u001b[0m\u001b[0mfill\u001b[0m\u001b[0;34m(\u001b[0m\u001b[0mBLUE\u001b[0m\u001b[0;34m)\u001b[0m\u001b[0;34m\u001b[0m\u001b[0;34m\u001b[0m\u001b[0m\n\u001b[1;32m     49\u001b[0m     \u001b[0mpygame\u001b[0m\u001b[0;34m.\u001b[0m\u001b[0mdisplay\u001b[0m\u001b[0;34m.\u001b[0m\u001b[0mflip\u001b[0m\u001b[0;34m(\u001b[0m\u001b[0;34m)\u001b[0m\u001b[0;34m\u001b[0m\u001b[0;34m\u001b[0m\u001b[0m\n\u001b[0;32m---> 50\u001b[0;31m     \u001b[0mclock\u001b[0m\u001b[0;34m.\u001b[0m\u001b[0mtick\u001b[0m\u001b[0;34m(\u001b[0m\u001b[0mfps\u001b[0m\u001b[0;34m)\u001b[0m\u001b[0;34m\u001b[0m\u001b[0;34m\u001b[0m\u001b[0m\n\u001b[0m\u001b[1;32m     51\u001b[0m \u001b[0;34m\u001b[0m\u001b[0m\n\u001b[1;32m     52\u001b[0m \u001b[0;31m# while main:\u001b[0m\u001b[0;34m\u001b[0m\u001b[0;34m\u001b[0m\u001b[0m\n",
      "\u001b[0;31mKeyboardInterrupt\u001b[0m: "
     ]
    }
   ],
   "source": [
    "import pygame\n",
    "import sys\n",
    "import os\n",
    "\n",
    "'''\n",
    "Variables\n",
    "'''\n",
    "worldx = 960\n",
    "worldy = 720\n",
    "fps   = 40  # frame rate\n",
    "ani   = 4   # animation cycles\n",
    "BLUE  = (25, 25, 200)\n",
    "BLACK = (23, 23, 23)\n",
    "WHITE = (254, 254, 254)\n",
    "main = True\n",
    "\n",
    "'''\n",
    "Setup\n",
    "'''\n",
    "\n",
    "clock = pygame.time.Clock()\n",
    "pygame.init()\n",
    "world = pygame.display.set_mode([worldx, worldy])\n",
    "# world = pygame.display.set_mode([worldx,worldy])\n",
    "# backdrop = pygame.image.load(os.path.join('images','stage.png'))\n",
    "# backdropbox = world.get_rect()\n",
    "\n",
    "'''\n",
    "Main loop\n",
    "'''\n",
    "\n",
    "while main:\n",
    "    for event in pygame.event.get():\n",
    "        if event.type == pygame.QUIT:\n",
    "            pygame.quit()\n",
    "            try:\n",
    "                sys.exit()\n",
    "            finally:\n",
    "                main = False\n",
    "\n",
    "        if event.type == pygame.KEYDOWN:\n",
    "            if event.key == ord('q'):\n",
    "                pygame.quit()\n",
    "            try:\n",
    "                sys.exit()\n",
    "            finally:\n",
    "                main = False\n",
    "    world.fill(BLUE)\n",
    "    pygame.display.flip()\n",
    "    clock.tick(fps)\n",
    "\n",
    "# while main:\n",
    "#     for event in pygame.event.get():\n",
    "#         if event.type == pygame.QUIT:\n",
    "#             pygame.quit(); sys.exit()\n",
    "#             main = False\n",
    "\n",
    "#         if event.type == pygame.KEYDOWN:\n",
    "#             if event.key == pygame.K_LEFT or event.key == ord('a'):\n",
    "#                 print('left')\n",
    "#             if event.key == pygame.K_RIGHT or event.key == ord('d'):\n",
    "#                 print('right')\n",
    "#             if event.key == pygame.K_UP or event.key == ord('w'):\n",
    "#             print('jump')\n",
    "\n",
    "#         if event.type == pygame.KEYUP:\n",
    "#             if event.key == pygame.K_LEFT or event.key == ord('a'):\n",
    "#                 print('left stop')\n",
    "#             if event.key == pygame.K_RIGHT or event.key == ord('d'):\n",
    "#                 print('right stop')\n",
    "#             if event.key == ord('q'):\n",
    "#                 pygame.quit()\n",
    "#                 sys.exit()\n",
    "#                 main = False "
   ]
  }
 ],
 "metadata": {
  "interpreter": {
   "hash": "122af6caf0ab7937ede18485b7d966373c804b25b747c3542754c3467f0abb2d"
  },
  "kernelspec": {
   "display_name": "Python 3.9.7 ('base')",
   "language": "python",
   "name": "python3"
  },
  "language_info": {
   "codemirror_mode": {
    "name": "ipython",
    "version": 3
   },
   "file_extension": ".py",
   "mimetype": "text/x-python",
   "name": "python",
   "nbconvert_exporter": "python",
   "pygments_lexer": "ipython3",
   "version": "3.9.7"
  },
  "orig_nbformat": 4
 },
 "nbformat": 4,
 "nbformat_minor": 2
}
